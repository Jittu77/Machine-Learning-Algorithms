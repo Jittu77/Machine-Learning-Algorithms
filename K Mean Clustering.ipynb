import random
import math

def euclidean_distance(point1, point2):
    """Calculates the Euclidean distance between two points."""
    distance = 0
    for i in range(len(point1)):
        distance += (point1[i] - point2[i]) ** 2
    return math.sqrt(distance)

def calculate_mean(points):
    """Calculates the mean of a list of points."""
    num_points = len(points)
    num_dimensions = len(points[0]) if num_points > 0 else 0  # Handle empty list case
    mean = [0] * num_dimensions
    if num_points == 0:
        return mean
    for point in points:
        for i in range(num_dimensions):
            mean[i] += point[i]
    return [val / num_points for val in mean]

def k_means(data, k, max_iterations=100):
    """Performs k-means clustering."""

    n = len(data)
    if k > n or k <= 0:
        raise ValueError("K must be between 1 and the number of data points.")

    # Initialize centroids randomly
    centroids = random.sample(data, k)

    for x in range(max_iterations):
        clusters = [[] for x in range(k)]  # Create empty clusters

        # Assign each point to the nearest centroid
        for point in data:
            min_distance = float('inf')
            closest_centroid = None
            for i, centroid in enumerate(centroids):
                distance = euclidean_distance(point, centroid)
                if distance < min_distance:
                    min_distance = distance
                    closest_centroid = i
            clusters[closest_centroid].append(point)

        # Recalculate centroids
        new_centroids = []
        for cluster in clusters:
            new_centroids.append(calculate_mean(cluster))

        # Check for convergence (if centroids haven't changed)
        if new_centroids == centroids:
            break

        centroids = new_centroids

    return centroids, clusters

data = [
    [1, 2], [1.5, 1.8], [5, 8], [8, 8], [1, 0.6], [9, 11]
]
k = 2

try:
    centroids, clusters = k_means(data, k)

    print("Centroids:", centroids)
    for i, cluster in enumerate(clusters):
        print(f"Cluster {i+1}:", cluster)

except ValueError as e:
    print(f"Error: {e}")

data2 = [[1,2],[1,3],[2,1],[2,2],[9,9],[10,10],[11,11],[10,12]]
k2 = 3
try:
    centroids2, clusters2 = k_means(data2, k2)

    print("Centroids:", centroids2)
    for i, cluster in enumerate(clusters2):
        print(f"Cluster {i+1}:", cluster)

except ValueError as e:
    print(f"Error: {e}")

data3 = []
k3=2
try:
    centroids3, clusters3 = k_means(data3, k3)

    print("Centroids:", centroids3)
    for i, cluster in enumerate(clusters3):
        print(f"Cluster {i+1}:", cluster)

except ValueError as e:
    print(f"Error: {e}")

data4 = [[1,2]]
k4=2
try:
    centroids4, clusters4 = k_means(data4, k4)

    print("Centroids:", centroids4)
    for i, cluster in enumerate(clusters4):
        print(f"Cluster {i+1}:", cluster)

except ValueError as e:
    print(f"Error: {e}")
